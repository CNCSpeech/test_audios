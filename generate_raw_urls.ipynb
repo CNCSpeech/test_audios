{
 "cells": [
  {
   "cell_type": "code",
   "execution_count": 3,
   "metadata": {},
   "outputs": [],
   "source": [
    "\"https://github.com/asosawelford/test_audios/raw/main/speech/preprocessed/es_female_1_animales_16kHzNormChan_LoudNorm_Denoised.wav\"\n",
    "\n",
    "base_url = \"https://github.com/asosawelford/test_audios/raw/main\"\n",
    "\n",
    "import os\n",
    "\n",
    "# reset text file\n",
    "with open(\"raw_urls.txt\", \"w\") as f:\n",
    "    f.write(\"\")\n",
    "\n",
    "# iterate over every folder in the directory\n",
    "for folder in os.listdir(os.getcwd()):\n",
    "    # if the folder is a directory\n",
    "    if os.path.isdir(folder):\n",
    "        # iterate over every file in the directory\n",
    "        for file in os.listdir(folder):\n",
    "            # if the file is a wav file\n",
    "            if file.endswith(\".wav\") or file.endswith(\".mp3\") or file.endswith(\".ogg\") or file.endswith(\".webm\"):\n",
    "                # create the url\n",
    "                url = f\"{base_url}/{folder}/{file}\"\n",
    "                # save to a txt file\n",
    "                with open(\"raw_urls.txt\", \"a\") as f:\n",
    "                    f.write(url + \"\\n\")\n"
   ]
  },
  {
   "cell_type": "code",
   "execution_count": null,
   "metadata": {},
   "outputs": [],
   "source": []
  }
 ],
 "metadata": {
  "kernelspec": {
   "display_name": "base",
   "language": "python",
   "name": "python3"
  },
  "language_info": {
   "codemirror_mode": {
    "name": "ipython",
    "version": 3
   },
   "file_extension": ".py",
   "mimetype": "text/x-python",
   "name": "python",
   "nbconvert_exporter": "python",
   "pygments_lexer": "ipython3",
   "version": "3.9.15"
  },
  "orig_nbformat": 4
 },
 "nbformat": 4,
 "nbformat_minor": 2
}
