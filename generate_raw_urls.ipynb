{
 "cells": [
  {
   "cell_type": "code",
   "execution_count": 4,
   "metadata": {},
   "outputs": [],
   "source": [
    "\"https://github.com/asosawelford/test_audios/raw/main/speech/preprocessed/es_female_1_animales_16kHzNormChan_LoudNorm_Denoised.wav\"\n",
    "\n",
    "base_url = \"https://github.com/asosawelford/test_audios/raw/main\"\n",
    "\n",
    "import os\n",
    "import os\n",
    "\n",
    "# reset text file\n",
    "with open(\"raw_urls.txt\", \"w\") as f:\n",
    "    f.write(\"\")\n",
    "\n",
    "# iterate over every folder in the directory\n",
    "for root, dirs, files in os.walk(os.getcwd()):\n",
    "    for file in files:\n",
    "        auido_file_formats = [\".wav\", \".mp3\", \".ogg\", \".webm\", \".flac\", \".m4a\", \".wma\", \".aac\", \".aiff\", \".aif\", \".aifc\", \".amr\", \".au\", \".snd\", \".ra\", \".rm\", \".rmvb\", \".caf\", \".mka\", \".opus\", \".ac3\", \".dts\", \".eac3\", \".mlp\", \".tta\", \".wv\", \".ape\", \".mpc\", \".ofr\"]\n",
    "        if file.endswith(tuple(auido_file_formats)):\n",
    "            url = f\"{base_url}/{root}/{file}\"\n",
    "            with open(\"raw_urls.txt\", \"a\") as f:\n",
    "                f.write(url + \"\\n\")\n"
   ]
  }
 ],
 "metadata": {
  "kernelspec": {
   "display_name": "base",
   "language": "python",
   "name": "python3"
  },
  "language_info": {
   "codemirror_mode": {
    "name": "ipython",
    "version": 3
   },
   "file_extension": ".py",
   "mimetype": "text/x-python",
   "name": "python",
   "nbconvert_exporter": "python",
   "pygments_lexer": "ipython3",
   "version": "3.10.12"
  },
  "orig_nbformat": 4
 },
 "nbformat": 4,
 "nbformat_minor": 2
}
