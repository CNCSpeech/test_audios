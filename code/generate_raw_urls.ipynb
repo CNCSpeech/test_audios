{
 "cells": [
  {
   "cell_type": "code",
   "execution_count": 1,
   "metadata": {},
   "outputs": [],
   "source": [
    "import os\n",
    "\n",
    "base_url = \"https://github.com/asosawelford/test_audios/raw/main\"\n",
    "\n",
    "# reset text file\n",
    "with open(\"raw_urls.txt\", \"w\") as f:\n",
    "    f.write(\"\")\n",
    "\n",
    "# iterate over every folder in the directory\n",
    "for root, dirs, files in os.walk(os.getcwd()):\n",
    "    for file in files:\n",
    "        auido_file_formats = [\".wav\", \".mp3\", \".ogg\", \".webm\", \".flac\", \".m4a\", \".wma\", \".aac\", \".aiff\", \".aif\", \".aifc\", \".amr\", \".au\", \".snd\", \".ra\", \".rm\", \".rmvb\", \".caf\", \".mka\", \".opus\", \".ac3\", \".dts\", \".eac3\", \".mlp\", \".tta\", \".wv\", \".ape\", \".mpc\", \".ofr\"]\n",
    "        if file.endswith(tuple(auido_file_formats)):\n",
    "            # construct the url, only with the relative path of the root\n",
    "            url = base_url + root.replace(os.getcwd(), \"\") + \"/\" + file\n",
    "            with open(\"raw_urls.txt\", \"a\") as f:\n",
    "                f.write(url + \"\\n\")\n"
   ]
  }
 ],
 "metadata": {
  "kernelspec": {
   "display_name": "base",
   "language": "python",
   "name": "python3"
  },
  "language_info": {
   "codemirror_mode": {
    "name": "ipython",
    "version": 3
   },
   "file_extension": ".py",
   "mimetype": "text/x-python",
   "name": "python",
   "nbconvert_exporter": "python",
   "pygments_lexer": "ipython3",
   "version": "3.10.12"
  },
  "orig_nbformat": 4
 },
 "nbformat": 4,
 "nbformat_minor": 2
}
