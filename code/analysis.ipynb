{
 "cells": [
  {
   "cell_type": "markdown",
   "metadata": {},
   "source": [
    "# Let's extract some basic audio features from some of these examples"
   ]
  },
  {
   "cell_type": "code",
   "execution_count": 2,
   "metadata": {},
   "outputs": [
    {
     "name": "stdout",
     "output_type": "stream",
     "text": [
      "Requirement already satisfied: pydub in c:\\users\\adolf\\test_audios\\.env\\lib\\site-packages (0.25.1)\n",
      "Requirement already satisfied: librosa in c:\\users\\adolf\\test_audios\\.env\\lib\\site-packages (0.10.1)\n",
      "Requirement already satisfied: audioread>=2.1.9 in c:\\users\\adolf\\test_audios\\.env\\lib\\site-packages (from librosa) (3.0.1)\n",
      "Requirement already satisfied: numpy!=1.22.0,!=1.22.1,!=1.22.2,>=1.20.3 in c:\\users\\adolf\\test_audios\\.env\\lib\\site-packages (from librosa) (1.26.4)\n",
      "Requirement already satisfied: scipy>=1.2.0 in c:\\users\\adolf\\test_audios\\.env\\lib\\site-packages (from librosa) (1.13.0)\n",
      "Requirement already satisfied: scikit-learn>=0.20.0 in c:\\users\\adolf\\test_audios\\.env\\lib\\site-packages (from librosa) (1.4.2)\n",
      "Requirement already satisfied: joblib>=0.14 in c:\\users\\adolf\\test_audios\\.env\\lib\\site-packages (from librosa) (1.4.0)\n",
      "Requirement already satisfied: decorator>=4.3.0 in c:\\users\\adolf\\test_audios\\.env\\lib\\site-packages (from librosa) (5.1.1)\n",
      "Requirement already satisfied: numba>=0.51.0 in c:\\users\\adolf\\test_audios\\.env\\lib\\site-packages (from librosa) (0.59.1)\n",
      "Requirement already satisfied: soundfile>=0.12.1 in c:\\users\\adolf\\test_audios\\.env\\lib\\site-packages (from librosa) (0.12.1)\n",
      "Requirement already satisfied: pooch>=1.0 in c:\\users\\adolf\\test_audios\\.env\\lib\\site-packages (from librosa) (1.8.1)\n",
      "Requirement already satisfied: soxr>=0.3.2 in c:\\users\\adolf\\test_audios\\.env\\lib\\site-packages (from librosa) (0.3.7)\n",
      "Requirement already satisfied: typing-extensions>=4.1.1 in c:\\users\\adolf\\test_audios\\.env\\lib\\site-packages (from librosa) (4.11.0)\n",
      "Requirement already satisfied: lazy-loader>=0.1 in c:\\users\\adolf\\test_audios\\.env\\lib\\site-packages (from librosa) (0.4)\n",
      "Requirement already satisfied: msgpack>=1.0 in c:\\users\\adolf\\test_audios\\.env\\lib\\site-packages (from librosa) (1.0.8)\n",
      "Requirement already satisfied: packaging in c:\\users\\adolf\\test_audios\\.env\\lib\\site-packages (from lazy-loader>=0.1->librosa) (24.0)\n",
      "Requirement already satisfied: llvmlite<0.43,>=0.42.0dev0 in c:\\users\\adolf\\test_audios\\.env\\lib\\site-packages (from numba>=0.51.0->librosa) (0.42.0)\n",
      "Requirement already satisfied: platformdirs>=2.5.0 in c:\\users\\adolf\\test_audios\\.env\\lib\\site-packages (from pooch>=1.0->librosa) (4.2.0)\n",
      "Requirement already satisfied: requests>=2.19.0 in c:\\users\\adolf\\test_audios\\.env\\lib\\site-packages (from pooch>=1.0->librosa) (2.31.0)\n",
      "Requirement already satisfied: threadpoolctl>=2.0.0 in c:\\users\\adolf\\test_audios\\.env\\lib\\site-packages (from scikit-learn>=0.20.0->librosa) (3.4.0)\n",
      "Requirement already satisfied: cffi>=1.0 in c:\\users\\adolf\\test_audios\\.env\\lib\\site-packages (from soundfile>=0.12.1->librosa) (1.16.0)\n",
      "Requirement already satisfied: pycparser in c:\\users\\adolf\\test_audios\\.env\\lib\\site-packages (from cffi>=1.0->soundfile>=0.12.1->librosa) (2.22)\n",
      "Requirement already satisfied: charset-normalizer<4,>=2 in c:\\users\\adolf\\test_audios\\.env\\lib\\site-packages (from requests>=2.19.0->pooch>=1.0->librosa) (3.3.2)\n",
      "Requirement already satisfied: idna<4,>=2.5 in c:\\users\\adolf\\test_audios\\.env\\lib\\site-packages (from requests>=2.19.0->pooch>=1.0->librosa) (3.7)\n",
      "Requirement already satisfied: urllib3<3,>=1.21.1 in c:\\users\\adolf\\test_audios\\.env\\lib\\site-packages (from requests>=2.19.0->pooch>=1.0->librosa) (2.2.1)\n",
      "Requirement already satisfied: certifi>=2017.4.17 in c:\\users\\adolf\\test_audios\\.env\\lib\\site-packages (from requests>=2.19.0->pooch>=1.0->librosa) (2024.2.2)\n"
     ]
    }
   ],
   "source": [
    "!pip install pydub librosa "
   ]
  },
  {
   "cell_type": "code",
   "execution_count": null,
   "metadata": {},
   "outputs": [],
   "source": [
    "# print metadata of a file with pydub\n",
    "from pydub.utils import mediainfo\n",
    "\n",
    "mediainfo(\"speech/1.wav\")"
   ]
  },
  {
   "cell_type": "code",
   "execution_count": null,
   "metadata": {},
   "outputs": [],
   "source": [
    "# import librosa\n",
    "import os\n",
    "import librosa.display\n",
    "import IPython.display as ipd\n",
    "import soundfile as sf\n",
    "import numpy as np\n",
    "import parselmouth\n",
    "\n",
    "\n",
    "path = os.path.join(os.getcwd(), \"speech\", \"speech_es_male_short_2.wav\")\n",
    "sound = parselmouth.Sound(path)\n",
    "\n",
    "# Extract pitch using Praat's To Pitch function\n",
    "pitch = sound.to_pitch()\n",
    "\n",
    "# Calculate the mean pitch\n",
    "mean_pitch = np.nanmean(pitch.selected_array['frequency'])\n",
    "\n",
    "# Convert mean pitch to Hz if necessary (default unit is Hertz)\n",
    "# mean_pitch_hz = mean_pitch  # This line is not needed if already in Hz\n",
    "\n",
    "# Print or use the mean pitch value as needed\n",
    "print(\"Mean Pitch:\", mean_pitch, \"Hz\")\n",
    "\n"
   ]
  },
  {
   "cell_type": "code",
   "execution_count": 34,
   "metadata": {},
   "outputs": [
    {
     "data": {
      "text/plain": [
       "223.61074174163602"
      ]
     },
     "execution_count": 34,
     "metadata": {},
     "output_type": "execute_result"
    }
   ],
   "source": [
    "path = \"speech/es_female_letra_a_unprocessed_mono.wav\"\n",
    "\n",
    "# Load the audio as a waveform `y`\n",
    "y, sr = sf.read(path)\n",
    "\n",
    "# Calculate the mean pitch\n",
    "sound = parselmouth.Sound(path)\n",
    "\n",
    "# Extract pitch using Praat's To Pitch function\n",
    "pitch = sound.to_pitch()\n",
    "pitch_series = pitch.selected_array['frequency']\n",
    "speech_series = pitch_series[(pitch_series > 30) & (pitch_series < 500)]\n",
    "mean_pitch = np.mean(speech_series)\n",
    "\n",
    "\n",
    "ipd.Audio(y, rate=sr)\n",
    "\n",
    "mean_pitch"
   ]
  },
  {
   "cell_type": "code",
   "execution_count": null,
   "metadata": {},
   "outputs": [],
   "source": [
    "# read from url\n",
    "y, sr = sf.read(\"https://github.com/asosawelford/test_audios/raw/main/speech/es_male_short.webm\")\n"
   ]
  }
 ],
 "metadata": {
  "kernelspec": {
   "display_name": "base",
   "language": "python",
   "name": "python3"
  },
  "language_info": {
   "codemirror_mode": {
    "name": "ipython",
    "version": 3
   },
   "file_extension": ".py",
   "mimetype": "text/x-python",
   "name": "python",
   "nbconvert_exporter": "python",
   "pygments_lexer": "ipython3",
   "version": "3.12.3"
  },
  "orig_nbformat": 4
 },
 "nbformat": 4,
 "nbformat_minor": 2
}
