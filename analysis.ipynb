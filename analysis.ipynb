{
 "cells": [
  {
   "cell_type": "markdown",
   "metadata": {},
   "source": [
    "# Let's extract some basic audio features from some of these examples"
   ]
  },
  {
   "cell_type": "code",
   "execution_count": 1,
   "metadata": {},
   "outputs": [
    {
     "ename": "PraatError",
     "evalue": "Cannot open file “/home/udesa_ubuntu/test_audios/speech/preprocessed/es_female_1_animales_16kHzNormChan_LoudNorm_Denoised.wav”.\nSound not read from sound file “/home/udesa_ubuntu/test_audios/speech/preprocessed/es_female_1_animales_16kHzNormChan_LoudNorm_Denoised.wav”.",
     "output_type": "error",
     "traceback": [
      "\u001b[0;31m---------------------------------------------------------------------------\u001b[0m",
      "\u001b[0;31mPraatError\u001b[0m                                Traceback (most recent call last)",
      "\u001b[1;32m/home/udesa_ubuntu/test_audios/analysis.ipynb Cell 2\u001b[0m line \u001b[0;36m1\n\u001b[1;32m      <a href='vscode-notebook-cell:/home/udesa_ubuntu/test_audios/analysis.ipynb#W1sZmlsZQ%3D%3D?line=6'>7</a>\u001b[0m \u001b[39mimport\u001b[39;00m \u001b[39mparselmouth\u001b[39;00m\n\u001b[1;32m     <a href='vscode-notebook-cell:/home/udesa_ubuntu/test_audios/analysis.ipynb#W1sZmlsZQ%3D%3D?line=9'>10</a>\u001b[0m path \u001b[39m=\u001b[39m os\u001b[39m.\u001b[39mpath\u001b[39m.\u001b[39mjoin(os\u001b[39m.\u001b[39mgetcwd(), \u001b[39m\"\u001b[39m\u001b[39mspeech\u001b[39m\u001b[39m\"\u001b[39m, \u001b[39m\"\u001b[39m\u001b[39mpreprocessed\u001b[39m\u001b[39m\"\u001b[39m, \u001b[39m\"\u001b[39m\u001b[39mes_female_1_animales_16kHzNormChan_LoudNorm_Denoised.wav\u001b[39m\u001b[39m\"\u001b[39m)\n\u001b[0;32m---> <a href='vscode-notebook-cell:/home/udesa_ubuntu/test_audios/analysis.ipynb#W1sZmlsZQ%3D%3D?line=10'>11</a>\u001b[0m sound \u001b[39m=\u001b[39m parselmouth\u001b[39m.\u001b[39;49mSound(path)\n\u001b[1;32m     <a href='vscode-notebook-cell:/home/udesa_ubuntu/test_audios/analysis.ipynb#W1sZmlsZQ%3D%3D?line=12'>13</a>\u001b[0m \u001b[39m# Extract pitch using Praat's To Pitch function\u001b[39;00m\n\u001b[1;32m     <a href='vscode-notebook-cell:/home/udesa_ubuntu/test_audios/analysis.ipynb#W1sZmlsZQ%3D%3D?line=13'>14</a>\u001b[0m pitch \u001b[39m=\u001b[39m sound\u001b[39m.\u001b[39mto_pitch()\n",
      "\u001b[0;31mPraatError\u001b[0m: Cannot open file “/home/udesa_ubuntu/test_audios/speech/preprocessed/es_female_1_animales_16kHzNormChan_LoudNorm_Denoised.wav”.\nSound not read from sound file “/home/udesa_ubuntu/test_audios/speech/preprocessed/es_female_1_animales_16kHzNormChan_LoudNorm_Denoised.wav”."
     ]
    }
   ],
   "source": [
    "# import librosa\n",
    "import librosa.display\n",
    "import IPython.display as ipd\n",
    "import os\n",
    "import soundfile as sf\n",
    "import numpy as np\n",
    "import parselmouth\n",
    "\n",
    "\n",
    "path = os.path.join(os.getcwd(), \"speech\", \"preprocessed\", \"es_female_1_animales_16kHzNormChan_LoudNorm_Denoised.wav\")\n",
    "sound = parselmouth.Sound(path)\n",
    "\n",
    "# Extract pitch using Praat's To Pitch function\n",
    "pitch = sound.to_pitch()\n",
    "\n",
    "# Calculate the mean pitch\n",
    "mean_pitch = np.nanmean(pitch.selected_array['frequency'])\n",
    "\n",
    "# Convert mean pitch to Hz if necessary (default unit is Hertz)\n",
    "# mean_pitch_hz = mean_pitch  # This line is not needed if already in Hz\n",
    "\n",
    "# Print or use the mean pitch value as needed\n",
    "print(\"Mean Pitch:\", mean_pitch, \"Hz\")\n",
    "\n"
   ]
  },
  {
   "cell_type": "code",
   "execution_count": 34,
   "metadata": {},
   "outputs": [
    {
     "data": {
      "text/plain": [
       "223.61074174163602"
      ]
     },
     "execution_count": 34,
     "metadata": {},
     "output_type": "execute_result"
    }
   ],
   "source": [
    "path = \"speech/es_female_letra_a_unprocessed_mono.wav\"\n",
    "\n",
    "# Load the audio as a waveform `y`\n",
    "y, sr = sf.read(path)\n",
    "\n",
    "# Calculate the mean pitch\n",
    "sound = parselmouth.Sound(path)\n",
    "\n",
    "# Extract pitch using Praat's To Pitch function\n",
    "pitch = sound.to_pitch()\n",
    "pitch_series = pitch.selected_array['frequency']\n",
    "speech_series = pitch_series[(pitch_series > 30) & (pitch_series < 500)]\n",
    "mean_pitch = np.mean(speech_series)\n",
    "\n",
    "\n",
    "ipd.Audio(y, rate=sr)\n",
    "\n",
    "mean_pitch"
   ]
  },
  {
   "cell_type": "code",
   "execution_count": 11,
   "metadata": {},
   "outputs": [
    {
     "ename": "LibsndfileError",
     "evalue": "Error opening 'https://github.com/asosawelford/test_audios/raw/main/speech/es_male_short.webm': System error.",
     "output_type": "error",
     "traceback": [
      "\u001b[0;31m---------------------------------------------------------------------------\u001b[0m",
      "\u001b[0;31mLibsndfileError\u001b[0m                           Traceback (most recent call last)",
      "\u001b[1;32m/home/udesa_ubuntu/test_audios/analysis.ipynb Cell 4\u001b[0m line \u001b[0;36m1\n\u001b[0;32m----> <a href='vscode-notebook-cell:/home/udesa_ubuntu/test_audios/analysis.ipynb#W4sZmlsZQ%3D%3D?line=0'>1</a>\u001b[0m y, sr \u001b[39m=\u001b[39m sf\u001b[39m.\u001b[39;49mread(\u001b[39m\"\u001b[39;49m\u001b[39mhttps://github.com/asosawelford/test_audios/raw/main/speech/es_male_short.webm\u001b[39;49m\u001b[39m\"\u001b[39;49m)\n",
      "File \u001b[0;32m~/miniconda3/lib/python3.9/site-packages/soundfile.py:285\u001b[0m, in \u001b[0;36mread\u001b[0;34m(file, frames, start, stop, dtype, always_2d, fill_value, out, samplerate, channels, format, subtype, endian, closefd)\u001b[0m\n\u001b[1;32m    199\u001b[0m \u001b[39mdef\u001b[39;00m \u001b[39mread\u001b[39m(file, frames\u001b[39m=\u001b[39m\u001b[39m-\u001b[39m\u001b[39m1\u001b[39m, start\u001b[39m=\u001b[39m\u001b[39m0\u001b[39m, stop\u001b[39m=\u001b[39m\u001b[39mNone\u001b[39;00m, dtype\u001b[39m=\u001b[39m\u001b[39m'\u001b[39m\u001b[39mfloat64\u001b[39m\u001b[39m'\u001b[39m, always_2d\u001b[39m=\u001b[39m\u001b[39mFalse\u001b[39;00m,\n\u001b[1;32m    200\u001b[0m          fill_value\u001b[39m=\u001b[39m\u001b[39mNone\u001b[39;00m, out\u001b[39m=\u001b[39m\u001b[39mNone\u001b[39;00m, samplerate\u001b[39m=\u001b[39m\u001b[39mNone\u001b[39;00m, channels\u001b[39m=\u001b[39m\u001b[39mNone\u001b[39;00m,\n\u001b[1;32m    201\u001b[0m          \u001b[39mformat\u001b[39m\u001b[39m=\u001b[39m\u001b[39mNone\u001b[39;00m, subtype\u001b[39m=\u001b[39m\u001b[39mNone\u001b[39;00m, endian\u001b[39m=\u001b[39m\u001b[39mNone\u001b[39;00m, closefd\u001b[39m=\u001b[39m\u001b[39mTrue\u001b[39;00m):\n\u001b[1;32m    202\u001b[0m \u001b[39m    \u001b[39m\u001b[39m\"\"\"Provide audio data from a sound file as NumPy array.\u001b[39;00m\n\u001b[1;32m    203\u001b[0m \n\u001b[1;32m    204\u001b[0m \u001b[39m    By default, the whole file is read from the beginning, but the\u001b[39;00m\n\u001b[0;32m   (...)\u001b[0m\n\u001b[1;32m    283\u001b[0m \n\u001b[1;32m    284\u001b[0m \u001b[39m    \"\"\"\u001b[39;00m\n\u001b[0;32m--> 285\u001b[0m     \u001b[39mwith\u001b[39;00m SoundFile(file, \u001b[39m'\u001b[39;49m\u001b[39mr\u001b[39;49m\u001b[39m'\u001b[39;49m, samplerate, channels,\n\u001b[1;32m    286\u001b[0m                    subtype, endian, \u001b[39mformat\u001b[39;49m, closefd) \u001b[39mas\u001b[39;00m f:\n\u001b[1;32m    287\u001b[0m         frames \u001b[39m=\u001b[39m f\u001b[39m.\u001b[39m_prepare_read(start, stop, frames)\n\u001b[1;32m    288\u001b[0m         data \u001b[39m=\u001b[39m f\u001b[39m.\u001b[39mread(frames, dtype, always_2d, fill_value, out)\n",
      "File \u001b[0;32m~/miniconda3/lib/python3.9/site-packages/soundfile.py:658\u001b[0m, in \u001b[0;36mSoundFile.__init__\u001b[0;34m(self, file, mode, samplerate, channels, subtype, endian, format, closefd)\u001b[0m\n\u001b[1;32m    655\u001b[0m \u001b[39mself\u001b[39m\u001b[39m.\u001b[39m_mode \u001b[39m=\u001b[39m mode\n\u001b[1;32m    656\u001b[0m \u001b[39mself\u001b[39m\u001b[39m.\u001b[39m_info \u001b[39m=\u001b[39m _create_info_struct(file, mode, samplerate, channels,\n\u001b[1;32m    657\u001b[0m                                  \u001b[39mformat\u001b[39m, subtype, endian)\n\u001b[0;32m--> 658\u001b[0m \u001b[39mself\u001b[39m\u001b[39m.\u001b[39m_file \u001b[39m=\u001b[39m \u001b[39mself\u001b[39;49m\u001b[39m.\u001b[39;49m_open(file, mode_int, closefd)\n\u001b[1;32m    659\u001b[0m \u001b[39mif\u001b[39;00m \u001b[39mset\u001b[39m(mode)\u001b[39m.\u001b[39missuperset(\u001b[39m'\u001b[39m\u001b[39mr+\u001b[39m\u001b[39m'\u001b[39m) \u001b[39mand\u001b[39;00m \u001b[39mself\u001b[39m\u001b[39m.\u001b[39mseekable():\n\u001b[1;32m    660\u001b[0m     \u001b[39m# Move write position to 0 (like in Python file objects)\u001b[39;00m\n\u001b[1;32m    661\u001b[0m     \u001b[39mself\u001b[39m\u001b[39m.\u001b[39mseek(\u001b[39m0\u001b[39m)\n",
      "File \u001b[0;32m~/miniconda3/lib/python3.9/site-packages/soundfile.py:1216\u001b[0m, in \u001b[0;36mSoundFile._open\u001b[0;34m(self, file, mode_int, closefd)\u001b[0m\n\u001b[1;32m   1213\u001b[0m \u001b[39mif\u001b[39;00m file_ptr \u001b[39m==\u001b[39m _ffi\u001b[39m.\u001b[39mNULL:\n\u001b[1;32m   1214\u001b[0m     \u001b[39m# get the actual error code\u001b[39;00m\n\u001b[1;32m   1215\u001b[0m     err \u001b[39m=\u001b[39m _snd\u001b[39m.\u001b[39msf_error(file_ptr)\n\u001b[0;32m-> 1216\u001b[0m     \u001b[39mraise\u001b[39;00m LibsndfileError(err, prefix\u001b[39m=\u001b[39m\u001b[39m\"\u001b[39m\u001b[39mError opening \u001b[39m\u001b[39m{0!r}\u001b[39;00m\u001b[39m: \u001b[39m\u001b[39m\"\u001b[39m\u001b[39m.\u001b[39mformat(\u001b[39mself\u001b[39m\u001b[39m.\u001b[39mname))\n\u001b[1;32m   1217\u001b[0m \u001b[39mif\u001b[39;00m mode_int \u001b[39m==\u001b[39m _snd\u001b[39m.\u001b[39mSFM_WRITE:\n\u001b[1;32m   1218\u001b[0m     \u001b[39m# Due to a bug in libsndfile version <= 1.0.25, frames != 0\u001b[39;00m\n\u001b[1;32m   1219\u001b[0m     \u001b[39m# when opening a named pipe in SFM_WRITE mode.\u001b[39;00m\n\u001b[1;32m   1220\u001b[0m     \u001b[39m# See http://github.com/erikd/libsndfile/issues/77.\u001b[39;00m\n\u001b[1;32m   1221\u001b[0m     \u001b[39mself\u001b[39m\u001b[39m.\u001b[39m_info\u001b[39m.\u001b[39mframes \u001b[39m=\u001b[39m \u001b[39m0\u001b[39m\n",
      "\u001b[0;31mLibsndfileError\u001b[0m: Error opening 'https://github.com/asosawelford/test_audios/raw/main/speech/es_male_short.webm': System error."
     ]
    }
   ],
   "source": [
    "y, sr = sf.read(\"https://github.com/asosawelford/test_audios/raw/main/speech/es_male_short.webm\")\n"
   ]
  },
  {
   "cell_type": "code",
   "execution_count": null,
   "metadata": {},
   "outputs": [],
   "source": []
  }
 ],
 "metadata": {
  "kernelspec": {
   "display_name": "base",
   "language": "python",
   "name": "python3"
  },
  "language_info": {
   "codemirror_mode": {
    "name": "ipython",
    "version": 3
   },
   "file_extension": ".py",
   "mimetype": "text/x-python",
   "name": "python",
   "nbconvert_exporter": "python",
   "pygments_lexer": "ipython3",
   "version": "3.9.15"
  },
  "orig_nbformat": 4
 },
 "nbformat": 4,
 "nbformat_minor": 2
}
