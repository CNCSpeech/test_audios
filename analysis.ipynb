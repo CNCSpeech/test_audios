{
 "cells": [
  {
   "cell_type": "markdown",
   "metadata": {},
   "source": [
    "# Let's extract some basic audio features from some of these examples"
   ]
  },
  {
   "cell_type": "code",
   "execution_count": 13,
   "metadata": {},
   "outputs": [
    {
     "name": "stdout",
     "output_type": "stream",
     "text": [
      "Mean Pitch: 41.68299454345218 Hz\n"
     ]
    }
   ],
   "source": [
    "# import librosa\n",
    "import librosa.display\n",
    "import IPython.display as ipd\n",
    "import os\n",
    "import soundfile as sf\n",
    "import numpy as np\n",
    "import parselmouth\n",
    "\n",
    "\n",
    "path = os.path.join(os.getcwd(), \"speech\", \"preprocessed\", \"es_female_1_animales_16kHzNormChan_LoudNorm_Denoised.wav\")\n",
    "sound = parselmouth.Sound(path)\n",
    "\n",
    "# Extract pitch using Praat's To Pitch function\n",
    "pitch = sound.to_pitch()\n",
    "\n",
    "# Calculate the mean pitch\n",
    "mean_pitch = np.nanmean(pitch.selected_array['frequency'])\n",
    "\n",
    "# Convert mean pitch to Hz if necessary (default unit is Hertz)\n",
    "# mean_pitch_hz = mean_pitch  # This line is not needed if already in Hz\n",
    "\n",
    "# Print or use the mean pitch value as needed\n",
    "print(\"Mean Pitch:\", mean_pitch, \"Hz\")\n",
    "\n"
   ]
  }
 ],
 "metadata": {
  "kernelspec": {
   "display_name": "base",
   "language": "python",
   "name": "python3"
  },
  "language_info": {
   "codemirror_mode": {
    "name": "ipython",
    "version": 3
   },
   "file_extension": ".py",
   "mimetype": "text/x-python",
   "name": "python",
   "nbconvert_exporter": "python",
   "pygments_lexer": "ipython3",
   "version": "3.9.15"
  },
  "orig_nbformat": 4
 },
 "nbformat": 4,
 "nbformat_minor": 2
}
