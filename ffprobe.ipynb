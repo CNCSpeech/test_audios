{
 "cells": [
  {
   "cell_type": "code",
   "execution_count": 20,
   "metadata": {},
   "outputs": [
    {
     "name": "stderr",
     "output_type": "stream",
     "text": [
      "ffprobe version 4.4.2-0ubuntu0.22.04.1 Copyright (c) 2007-2021 the FFmpeg developers\n",
      "  built with gcc 11 (Ubuntu 11.2.0-19ubuntu1)\n",
      "  configuration: --prefix=/usr --extra-version=0ubuntu0.22.04.1 --toolchain=hardened --libdir=/usr/lib/x86_64-linux-gnu --incdir=/usr/include/x86_64-linux-gnu --arch=amd64 --enable-gpl --disable-stripping --enable-gnutls --enable-ladspa --enable-libaom --enable-libass --enable-libbluray --enable-libbs2b --enable-libcaca --enable-libcdio --enable-libcodec2 --enable-libdav1d --enable-libflite --enable-libfontconfig --enable-libfreetype --enable-libfribidi --enable-libgme --enable-libgsm --enable-libjack --enable-libmp3lame --enable-libmysofa --enable-libopenjpeg --enable-libopenmpt --enable-libopus --enable-libpulse --enable-librabbitmq --enable-librubberband --enable-libshine --enable-libsnappy --enable-libsoxr --enable-libspeex --enable-libsrt --enable-libssh --enable-libtheora --enable-libtwolame --enable-libvidstab --enable-libvorbis --enable-libvpx --enable-libwebp --enable-libx265 --enable-libxml2 --enable-libxvid --enable-libzimg --enable-libzmq --enable-libzvbi --enable-lv2 --enable-omx --enable-openal --enable-opencl --enable-opengl --enable-sdl2 --enable-pocketsphinx --enable-librsvg --enable-libmfx --enable-libdc1394 --enable-libdrm --enable-libiec61883 --enable-chromaprint --enable-frei0r --enable-libx264 --enable-shared\n",
      "  libavutil      56. 70.100 / 56. 70.100\n",
      "  libavcodec     58.134.100 / 58.134.100\n",
      "  libavformat    58. 76.100 / 58. 76.100\n",
      "  libavdevice    58. 13.100 / 58. 13.100\n",
      "  libavfilter     7.110.100 /  7.110.100\n",
      "  libswscale      5.  9.100 /  5.  9.100\n",
      "  libswresample   3.  9.100 /  3.  9.100\n",
      "  libpostproc    55.  9.100 / 55.  9.100\n",
      "Input #0, matroska,webm, from 'speech/es_male_short_2.webm':\n",
      "  Metadata:\n",
      "    title           : Universidad de San Andrés - Campus Victoria\n",
      "    VOICE-MEMO-UUID : FE193141-3BC4-4650-90F3-3C6919C8EF52\n",
      "    MAJOR_BRAND     : M4A \n",
      "    MINOR_VERSION   : 0\n",
      "    COMPATIBLE_BRANDS: M4A isommp42\n",
      "    ENCODER         : Lavf60.3.100\n",
      "  Duration: 00:00:06.11, start: -0.007000, bitrate: 69 kb/s\n",
      "  Stream #0:0: Audio: opus, 48000 Hz, mono, fltp (default)\n",
      "    Metadata:\n",
      "      HANDLER_NAME    : Core Media Audio\n",
      "      VENDOR_ID       : [0][0][0][0]\n",
      "      ENCODER         : Lavc60.3.100 libopus\n",
      "      DURATION        : 00:00:06.108000000\n"
     ]
    }
   ],
   "source": [
    "import subprocess\n",
    "import re\n",
    "\n",
    "def get_format_name(file_path):\n",
    "    ffprobe_cmd = ['ffprobe', '-show_format', '-i', file_path]\n",
    "    ffprobe_output = subprocess.check_output(ffprobe_cmd).decode('utf-8')\n",
    "\n",
    "    # Regular expression pattern to extract format_name\n",
    "    format_name_pattern = r'format_name=(\\w+)'\n",
    "\n",
    "    # Search for format_name using regular expression\n",
    "    match = re.search(format_name_pattern, ffprobe_output)\n",
    "    if match:\n",
    "        return match.group(1)\n",
    "    else:\n",
    "        return None\n",
    "\n",
    "# Example usage\n",
    "file_path = 'speech/es_male_short_2.webm'\n",
    "format_name = get_format_name(file_path)\n",
    "\n"
   ]
  },
  {
   "cell_type": "code",
   "execution_count": 21,
   "metadata": {},
   "outputs": [
    {
     "name": "stdout",
     "output_type": "stream",
     "text": [
      "Format Name: matroska\n"
     ]
    }
   ],
   "source": [
    "if format_name:\n",
    "    print(f\"Format Name: {format_name}\")\n",
    "else:\n",
    "    print(\"Format Name not found.\")"
   ]
  },
  {
   "cell_type": "code",
   "execution_count": null,
   "metadata": {},
   "outputs": [],
   "source": []
  }
 ],
 "metadata": {
  "kernelspec": {
   "display_name": "Python 3",
   "language": "python",
   "name": "python3"
  },
  "language_info": {
   "codemirror_mode": {
    "name": "ipython",
    "version": 3
   },
   "file_extension": ".py",
   "mimetype": "text/x-python",
   "name": "python",
   "nbconvert_exporter": "python",
   "pygments_lexer": "ipython3",
   "version": "3.10.12"
  }
 },
 "nbformat": 4,
 "nbformat_minor": 2
}
